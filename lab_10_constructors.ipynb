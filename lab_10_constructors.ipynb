Class Animal:
  def __init__(self):
    print('love animal')
animal1 = Animal()
animal2 = Animal()
animal3 = Animal()
