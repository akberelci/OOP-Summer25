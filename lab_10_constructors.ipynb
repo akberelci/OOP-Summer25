Class Animal:
  def __init__(self):
    print('love animal')
animal1 = Animal()
animal2 = Animal()
animal3 = Animal()

class Car:
    def __init__(self, brand, model):
        print('i like cars')
        self.brand = brand
        self.model = model

c1 = Car('Toyota', 'Corolla')
c2 = Car('Ford', 'Mustang')
c3 = Car('BMW', 'M3')
