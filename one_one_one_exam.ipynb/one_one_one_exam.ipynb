{
 "cells": [
  {
   "cell_type": "code",
   "execution_count": 26,
   "id": "c922a635",
   "metadata": {},
   "outputs": [
    {
     "name": "stdout",
     "output_type": "stream",
     "text": [
      "akber elci\n"
     ]
    }
   ],
   "source": [
    "print(\"akber elci\")"
   ]
  },
  {
   "cell_type": "code",
   "execution_count": 27,
   "id": "0dec9b39",
   "metadata": {},
   "outputs": [
    {
     "name": "stdout",
     "output_type": "stream",
     "text": [
      "animal\n"
     ]
    }
   ],
   "source": [
    "y=\"animal\"\n",
    "print(y)"
   ]
  },
  {
   "cell_type": "code",
   "execution_count": 28,
   "id": "dd5a0ea9",
   "metadata": {},
   "outputs": [],
   "source": [
    "country=[\"Turkey\",\"Poland\",\"Germany\"]"
   ]
  },
  {
   "cell_type": "code",
   "execution_count": 29,
   "id": "bc5d6dea",
   "metadata": {},
   "outputs": [],
   "source": [
    "class Student:\n",
    "    def __init__(self,name,index_number):\n",
    "        self.name=name\n",
    "        self.index_number=index_number"
   ]
  }
 ],
 "metadata": {
  "kernelspec": {
   "display_name": "Python 3",
   "language": "python",
   "name": "python3"
  },
  "language_info": {
   "codemirror_mode": {
    "name": "ipython",
    "version": 3
   },
   "file_extension": ".py",
   "mimetype": "text/x-python",
   "name": "python",
   "nbconvert_exporter": "python",
   "pygments_lexer": "ipython3",
   "version": "3.12.1"
  }
 },
 "nbformat": 4,
 "nbformat_minor": 5
}
