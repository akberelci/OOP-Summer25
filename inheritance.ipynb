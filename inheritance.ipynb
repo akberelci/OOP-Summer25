# Parent class
class Vehicle:
    def __init__(self, brand):
        self.brand = brand

    def move(self):
        print(f"The {self.brand} is moving")

# Child class
class Car(Vehicle):
    def move(self):
        print(f"The {self.brand} car is driving")


my_car = Car("Toyota")
my_car.move()
