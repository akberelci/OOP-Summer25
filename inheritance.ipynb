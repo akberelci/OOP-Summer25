{
 "cells": [
  {
   "cell_type": "markdown",
   "id": "6d4fad3c",
   "metadata": {},
   "source": [
    "# Beginner-Level Inheritance Example in Python"
   ]
  },
  {
   "cell_type": "code",
   "execution_count": null,
   "id": "92101cb3",
   "metadata": {},
   "outputs": [],
   "source": [
    "# Parent class\n",
    "class Vehicle:\n",
    "    def __init__(self, brand):\n",
    "        self.brand = brand\n",
    "\n",
    "    def move(self):\n",
    "        print(f\"The {self.brand} is moving.\")\n"
   ]
  },
  {
   "cell_type": "code",
   "execution_count": null,
   "id": "c58dafbc",
   "metadata": {},
   "outputs": [],
   "source": [
    "# Child class\n",
    "class Car(Vehicle):\n",
    "    def move(self):\n",
    "        print(f\"The {self.brand} car is driving.\")\n"
   ]
  },
  {
   "cell_type": "code",
   "execution_count": null,
   "id": "dd3181f9",
   "metadata": {},
   "outputs": [],
   "source": [
    
    "my_car = Car(\"Toyota\")\n",
    "my_car.move()  # Output: The Toyota car is driving.\n"
   ]
  }
 ],
 "metadata": {},
 "nbformat": 4,
 "nbformat_minor": 5
}
