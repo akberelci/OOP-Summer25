{
 "cells": [
  {
   "cell_type": "code",
   "execution_count": null,
   "id": "f93e5817",
   "metadata": {
    "vscode": {
     "languageId": "plaintext"
    }
   },
   "outputs": [],
   "source": [
    "\n",
    "Class Animal:\n",
    "  def __init__(self):\n",
    "    print('love animal')\n",
    "animal1 = Animal()\n",
    "animal2 = Animal()\n",
    "animal3 = Animal()\n"
   ]
  },
  {
   "cell_type": "code",
   "execution_count": null,
   "id": "5b37a107",
   "metadata": {
    "vscode": {
     "languageId": "plaintext"
    }
   },
   "outputs": [],
   "source": [
    "Class Car:\n",
    "    def __init__(self, brand, model):\n",
    "        print('i like cars')\n",
    "        self.brand = brand\n",
    "        self.model = model\n",
    "\n",
    "c1 = Car('Toyota', 'Corolla')\n",
    "c2 = Car('Ford', 'Mustang')\n",
    "c3 = Car('BMW', 'M3')"
   ]
  }
 ],
 "metadata": {
  "language_info": {
   "name": "python"
  }
 },
 "nbformat": 4,
 "nbformat_minor": 5
}
