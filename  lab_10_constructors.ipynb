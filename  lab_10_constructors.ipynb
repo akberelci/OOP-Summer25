{
 "cells": [
  {
   "cell_type": "code",
   "execution_count": 2,
   "id": "f93e5817",
   "metadata": {},
   "outputs": [
    {
     "name": "stdout",
     "output_type": "stream",
     "text": [
      "love animal\n",
      "love animal\n",
      "love animal\n"
     ]
    }
   ],
   "source": [
    "\n",
    "class Animal:\n",
    "    def __init__(self):\n",
    "        print('love animal')\n",
    "\n",
    "animal1 = Animal()\n",
    "animal2 = Animal()\n",
    "animal3 = Animal()\n"
   ]
  },
  {
   "cell_type": "code",
   "execution_count": 4,
   "id": "5b37a107",
   "metadata": {},
   "outputs": [
    {
     "name": "stdout",
     "output_type": "stream",
     "text": [
      "I like cars\n",
      "I like cars\n",
      "I like cars\n"
     ]
    }
   ],
   "source": [
    "class Car:\n",
    "    def __init__(self, brand, model):\n",
    "        print('I like cars')\n",
    "        self.brand = brand\n",
    "        self.model = model\n",
    "\n",
    "c1 = Car('Toyota', 'Corolla')\n",
    "c2 = Car('Ford', 'Mustang')\n",
    "c3 = Car('BMW', 'M3')\n"
   ]
  },
  {
   "cell_type": "code",
   "execution_count": 5,
   "id": "c00a4954",
   "metadata": {},
   "outputs": [],
   "source": [
    "class House:\n",
    "    def __init__(self, location, floors, furnitures):\n",
    "        self.location = location      \n",
    "        self.floors = floors         \n",
    "        self.furnitures = furnitures  \n",
    "\n",
    "\n",
    "house1 = House(\n",
    "    {'country': 'Turkey', 'city': 'Antalya', 'street': 'Pinarbasi mahallesi'},\n",
    "    1,\n",
    "    ['table', 'chair', 'sofa']\n",
    ")\n",
    "\n",
    "\n",
    "house2 = House(\n",
    "    {'country': 'Poland', 'city': 'Warsaw', 'street': 'Gorska 6/10'},\n",
    "    3,\n",
    "    ['bed', 'wardrobe', 'desk']\n",
    ")\n"
   ]
  }
 ],
 "metadata": {
  "kernelspec": {
   "display_name": "Python 3",
   "language": "python",
   "name": "python3"
  },
  "language_info": {
   "codemirror_mode": {
    "name": "ipython",
    "version": 3
   },
   "file_extension": ".py",
   "mimetype": "text/x-python",
   "name": "python",
   "nbconvert_exporter": "python",
   "pygments_lexer": "ipython3",
   "version": "3.12.1"
  }
 },
 "nbformat": 4,
 "nbformat_minor": 5
}
